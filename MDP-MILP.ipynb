{
 "cells": [
  {
   "cell_type": "code",
   "execution_count": 5,
   "metadata": {},
   "outputs": [
    {
     "data": {
      "image/png": "[encoded data removed]",
      "text/plain": [
       "<Figure size 432x288 with 1 Axes>"
      ]
     },
     "metadata": {},
     "output_type": "display_data"
    }
   ],
   "source": [
    "import matplotlib.pyplot as plt\n",
    "import numpy as np\n",
    "\n",
    "# First plot an approximation of y vs. x to get a sense of what the distribution looks like\n",
    "n = 10000\n",
    "x = np.random.randn(n) # Recall: x ~ N(0, 1)\n",
    "mu = list()\n",
    "sigma = list()\n",
    "\n",
    "for i in x: # Recall: y ~ N(min(x,0), max(x,0))\n",
    "    mu.append(min(i,0))\n",
    "    sigma.append(max(i,0))\n",
    "\n",
    "y = mu + sigma*np.random.randn(n)\n",
    "n, bins, patches = plt.hist(y, 50, density = 1, facecolor='g', alpha=0.75)\n",
    "\n",
    "plt.xlabel('x')\n",
    "plt.ylabel('y')\n",
    "plt.title('MDP-MILP')\n",
    "plt.grid(True)\n",
    "plt.show() # It appears that ~0 is the value of x that maximizes y? idk :("
   ]
  },
  {
   "cell_type": "code",
   "execution_count": 7,
   "metadata": {},
   "outputs": [
    {
     "name": "stdout",
     "output_type": "stream",
     "text": [
      "Optimize a model with 2 rows, 3 columns and 4 nonzeros\n",
      "Variable types: 2 continuous, 1 integer (1 binary)\n",
      "Coefficient statistics:\n",
      "  Matrix range     [1e+00, 1e+01]\n",
      "  Objective range  [8e-03, 1e+00]\n",
      "  Bounds range     [1e+00, 1e+00]\n",
      "  RHS range        [1e+01, 1e+01]\n",
      "Found heuristic solution: objective -0\n",
      "\n",
      "Explored 0 nodes (0 simplex iterations) in 0.02 seconds\n",
      "Thread count was 1 (of 4 available processors)\n",
      "\n",
      "Solution count 1: -0 \n",
      "Pool objective bound -0\n",
      "\n",
      "Optimal solution found (tolerance 1.00e-04)\n",
      "Best objective -0.000000000000e+00, best bound -0.000000000000e+00, gap 0.0000%\n",
      "x1 0\n",
      "x2 0\n",
      "y 0\n",
      "Obj: -0\n"
     ]
    }
   ],
   "source": [
    "from gurobipy import *\n",
    "import numpy as np\n",
    "\n",
    "# Create model\n",
    "model = Model(\"MDP-MILP\")\n",
    "\n",
    "# Create variables\n",
    "x1 = model.addVar(lb = -1*GRB.INFINITY, ub=0.0, name = \"x1\") # Represents min(x, 0) -> x1 <= 0\n",
    "x2 = model.addVar(lb=0.0, ub=GRB.INFINITY, name = \"x2\") # Represents max(x, 0) -> x2 >= 0\n",
    "y = model.addVar(vtype=GRB.BINARY, name = \"y\") # Indicator variable for big M constraints\n",
    "\n",
    "#Set coefficient e - objective function is a summation over n trials (accounts for stochasticity of e ~ N(0,1) I THINK?)\n",
    "n = 10000 # Number of trials \n",
    "e = 0 # Coefficient for x2 -> e ~ N(0,1)\n",
    "i = 0\n",
    "while i < n:\n",
    "    norm = np.random.normal(0.0, 1.0)\n",
    "    e = e + norm\n",
    "    i = i + 1\n",
    "e = e/n\n",
    "\n",
    "#Set objective \n",
    "model.setObjective(x1 + e*x2, GRB.MAXIMIZE)\n",
    "\n",
    "#Set constraints - ensure that at least one of x1 or x2 is 0 (is this the right way to go about this?)\n",
    "M = 10^6\n",
    "model.addConstr(x2 <= M*(1-y)) # If y is 1, x2 must be 0 -> x2 <= 0 -> x2 = 0. Otherwise, no restriction on x2.\n",
    "model.addConstr(x1 >= -1*M*y) # If y is 0, x1 must be 0 -> x1 >= 0 -> x1 = 0. Otherwise, no restriction on x1. \n",
    "model.update()\n",
    "\n",
    "# Optimize model\n",
    "model.optimize()\n",
    "\n",
    "# Print Results \n",
    "for v in model.getVars():\n",
    "    print('%s %g' % (v.varName, v.x))\n",
    "\n",
    "print('Obj: %g' % model.objVal)\n",
    "                   \n"
   ]
  },
  {
   "cell_type": "code",
   "execution_count": null,
   "metadata": {},
   "outputs": [],
   "source": []
  }
 ],
 "metadata": {
  "kernelspec": {
   "display_name": "Python 3",
   "language": "python",
   "name": "python3"
  },
  "language_info": {
   "codemirror_mode": {
    "name": "ipython",
    "version": 3
   },
   "file_extension": ".py",
   "mimetype": "text/x-python",
   "name": "python",
   "nbconvert_exporter": "python",
   "pygments_lexer": "ipython3",
   "version": "3.5.5"
  }
 },
 "nbformat": 4,
 "nbformat_minor": 2
}
