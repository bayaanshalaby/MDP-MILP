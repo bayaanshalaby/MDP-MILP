{
 "cells": [
  {
   "cell_type": "code",
   "execution_count": null,
   "metadata": {},
   "outputs": [],
   "source": [
    "from gurobipy import *\n",
    "import numpy as np\n",
    "\n",
    "def createModel1(seed, n):\n",
    "    model1 = Model(\"Model 1\")\n",
    "    \n",
    "    # Create Variables \n",
    "    t = model1.addVar(vtype = GRB.BINARY, name = \"Tulip Type\")\n",
    "    x = model1.addVar(lb = 250, ub = 1000, name = \"Amount of Water/week (mL)\")\n",
    "    avg = model1.addVar(name = \"Average\")\n",
    "    stdev = model1.addVar(name = \"Standard Deviation\")\n",
    "\n",
    "    # Monte Carlo-ing Expectation\n",
    "    np.random.seed(seed)\n",
    "    samples = np.random.standard_normal(n)\n",
    "    obj = LinExpr()\n",
    "    \n",
    "    for norm in samples:\n",
    "        obj += avg + stdev*norm\n",
    "\n",
    "    # Set objective\n",
    "    model1.setObjective((1/n)*obj, GRB.MAXIMIZE)\n",
    "\n",
    "    # Set constraints \n",
    "    M = 1000\n",
    "\n",
    "    # If t = 1, avg = 15 + 0.001x, else avg = 15 + 0.0015x\n",
    "    model1.addConstr(avg <= 15 + 0.0012*x + M*(1 - t))\n",
    "    model1.addConstr(avg >= 15 + 0.0012*x - M*(1 - t))\n",
    "    model1.addConstr(avg <= 15 + 0.001*x + M*t)\n",
    "    model1.addConstr(avg >= 15 + 0.001*x - M*t)\n",
    "\n",
    "    # If t = 1, stdev = 5 + 0.01x, else avg = 10 - 0.01x\n",
    "    model1.addConstr(stdev <= 5 + 0.01*x + M*(1 - t))\n",
    "    model1.addConstr(stdev >= 5 + 0.01*x - M*(1 - t))\n",
    "    model1.addConstr(stdev <= 10 - 0.005*x + M*t)\n",
    "    model1.addConstr(stdev >= 10 - 0.005*x - M*t)"
   ]
  }
 ],
 "metadata": {
  "kernelspec": {
   "display_name": "Python 3",
   "language": "python",
   "name": "python3"
  },
  "language_info": {
   "codemirror_mode": {
    "name": "ipython",
    "version": 3
   },
   "file_extension": ".py",
   "mimetype": "text/x-python",
   "name": "python",
   "nbconvert_exporter": "python",
   "pygments_lexer": "ipython3",
   "version": "3.5.5"
  }
 },
 "nbformat": 4,
 "nbformat_minor": 2
}
