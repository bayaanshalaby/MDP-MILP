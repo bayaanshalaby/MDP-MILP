{
 "cells": [
  {
   "cell_type": "code",
   "execution_count": 9,
   "metadata": {},
   "outputs": [
    {
     "name": "stdout",
     "output_type": "stream",
     "text": [
      "Sample average of e is: 0.49742080264130434\n",
      "\n",
      "Dice Decision: 1\n",
      "Modification Factor: 0\n",
      "Obj: 3.4871\n"
     ]
    }
   ],
   "source": [
    "from gurobipy import *\n",
    "import numpy as np\n",
    "\n",
    "''' Modelling a dice game where:\n",
    "    - Objective: get the highest possible number on a single roll \n",
    "    - Before the roll, the player must decide:\n",
    "        - To use a standard 6 sided dice or a modified -3 to 9 dice (13 sided)\n",
    "        - To modify the range of numbers by choosing any integer x (0-10) s.t \n",
    "                lb - 2*x and ub + x \n",
    "        - TODO: add another variable (idea: option (binary?) to add a second dice (-3,3), 2 R.V.s \n",
    "                                            -> obj will be the sum of both unifs where second is dependent on binary variable?\n",
    "                                            OR: 2 options for second die (must be used) and constraints dictating which combos \n",
    "                                            legal in the game) \n",
    "        '''\n",
    "\n",
    "# Create model\n",
    "model = Model(\"UNIF-MILP\")\n",
    "model.setParam('OutputFlag', 0)\n",
    "\n",
    "# Create variables\n",
    "d = model.addVar(vtype = GRB.BINARY, name = \"Dice Decision\")\n",
    "x = model.addVar(lb = 0, ub = 10, vtype = GRB.INTEGER, name = \"Modification Factor\")\n",
    "lb1 = 1\n",
    "ub1 = 6\n",
    "lb2 = -3\n",
    "ub2 = 9\n",
    "#Set coefficient e -> Monte carlo'd over n trials \n",
    "n = 10000 # Number of trials \n",
    "e = 0 # Coefficient for x2 -> e ~ unif(0,1)\n",
    "i = 0\n",
    "obj = LinExpr()\n",
    "while i < n:\n",
    "    unif = np.random.uniform(0.0, 1.0)\n",
    "    loc = lb1*d + lb2*(1-d) -2*x\n",
    "    scale = (ub1*d + ub2*(1-d) + x)  - (lb1*d + lb2*(1-d) - 2*x)\n",
    "    obj = obj + loc + scale*unif\n",
    "    e = e + unif # Used to check the sample average for testing\n",
    "    i = i + 1\n",
    "e = e/n\n",
    "print(\"Sample average of e is: \" + str(e) + \"\\n\")\n",
    "\n",
    "#Set objective \n",
    "model.setObjective((1/n)*obj, GRB.MAXIMIZE)\n",
    "\n",
    "#Set constraints\n",
    "\n",
    "\n",
    "# Optimize model\n",
    "model.optimize()\n",
    "\n",
    "# Print Results \n",
    "for v in model.getVars():\n",
    "    print('%s: %g' % (v.varName, v.x))\n",
    "\n",
    "print('Obj: %g' % model.objVal)"
   ]
  },
  {
   "cell_type": "code",
   "execution_count": null,
   "metadata": {},
   "outputs": [],
   "source": []
  }
 ],
 "metadata": {
  "kernelspec": {
   "display_name": "Python 3",
   "language": "python",
   "name": "python3"
  },
  "language_info": {
   "codemirror_mode": {
    "name": "ipython",
    "version": 3
   },
   "file_extension": ".py",
   "mimetype": "text/x-python",
   "name": "python",
   "nbconvert_exporter": "python",
   "pygments_lexer": "ipython3",
   "version": "3.5.5"
  }
 },
 "nbformat": 4,
 "nbformat_minor": 2
}
