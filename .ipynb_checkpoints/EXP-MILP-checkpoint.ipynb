{
 "cells": [
  {
   "cell_type": "code",
   "execution_count": 22,
   "metadata": {},
   "outputs": [
    {
     "name": "stdout",
     "output_type": "stream",
     "text": [
      "Standard exponential sample average is: 1.0014347598565656\n",
      "Standard normal sample average is: 0.006573157356098536\n",
      "\n",
      "Scale: 13\n",
      "p: 8\n",
      "s: 6\n",
      "b: 1\n",
      "Obj: 19.9669\n"
     ]
    }
   ],
   "source": [
    "from gurobipy import *\n",
    "import numpy as np\n",
    "\n",
    "'''\n",
    "Modelling the spelling performance of the first draft of an engineering student's paper \n",
    "    - Objective: maximize the number of paragraphs until the first spelling error \n",
    "    - The \"interarrival time\" (measured in paragraphs) between sucessive spelling errors is expoentially distributed\n",
    "    - Before the undergrad begins to write the paper, they can take an online course to help with their spelling:\n",
    "        - The course allows for the student to set a minimum number of paragraphs (p) that they'd like guaranteed* without\n",
    "          spelling errors (setting the location param of the distribution) \n",
    "          *Obviously, the course cannot 100% guarantee that the student does not make any spelling errors in \n",
    "           at least p paragraphs so this follows a normal distribution: \n",
    "               Normal(p, (-20*p)^2), p <= 15 \n",
    "        - The course also allows for the student to set the scale (1/rate, rate = mistakes/paragraph) (s) that they'd like \n",
    "          to attain, following: \n",
    "              2*s + 1, if s <= 6 AND p <= 8\n",
    "              1/2*s - 1 if s > 6         \n",
    "'''\n",
    "\n",
    "# Create model\n",
    "model = Model(\"EXP-MILP\")\n",
    "model.setParam('OutputFlag', 0)\n",
    "\n",
    "# Create variables\n",
    "scale = model.addVar(lb= -1*GRB.INFINITY, ub=GRB.INFINITY, name = \"Scale\") # Represents PWL f(s)\n",
    "p = model.addVar(lb = 0, ub = 15, vtype = GRB.INTEGER, name = \"p\")\n",
    "s = model.addVar(lb = 0, ub = 15, vtype = GRB.INTEGER, name = \"s\")\n",
    "b = model.addVar(vtype=GRB.BINARY, name = \"b\") # Binary variable for min big M constraints\n",
    "model.update()\n",
    "\n",
    "#Set objective\n",
    "n = 10000 # Number of trials \n",
    "eavg = 0 \n",
    "navg = 0\n",
    "i = 0\n",
    "obj = LinExpr()\n",
    "normLoc = LinExpr()\n",
    "while i < n:\n",
    "    norm = np.random.standard_normal()\n",
    "    exp = np.random.standard_exponential()\n",
    "    obj += p + (-20)*p*norm + exp*scale \n",
    "    eavg += exp\n",
    "    navg += norm\n",
    "    i += 1\n",
    "eavg = eavg/n\n",
    "navg = navg/n\n",
    "print(\"Standard exponential sample average is: \" + str(eavg))\n",
    "print(\"Standard normal sample average is: \" + str(navg) + \"\\n\")\n",
    "model.setObjective((1/n)*obj, GRB.MAXIMIZE)\n",
    "\n",
    "#Set constraints\n",
    "M = 1000\n",
    "# If b = 1, s <= 6 AND p <= 8, meaning that scale = 2*s + 1\n",
    "model.addConstr(s <= 6 + M*(1 - b))\n",
    "model.addConstr(p <= 8 + M*(1 - b))\n",
    "model.addConstr(scale >= 2*s + 1 - M*(1 - b))\n",
    "model.addConstr(scale <= 2*s + 1 + M*(1 - b))\n",
    "\n",
    "# If b = 0, s > 6, meaning scale = 1/2*s - 1\n",
    "model.addConstr(s >= 7 - M*b)\n",
    "model.addConstr(scale >= (1/2)*s - 1 - M*b)\n",
    "model.addConstr(scale <= (1/2)*s - 1 + M*b)\n",
    "\n",
    "# Optimize model\n",
    "model.optimize()\n",
    "\n",
    "# Print Results \n",
    "for v in model.getVars():\n",
    "    print('%s: %g' % (v.varName, v.x))\n",
    "\n",
    "print('Obj: %g' % model.objVal)"
   ]
  },
  {
   "cell_type": "code",
   "execution_count": null,
   "metadata": {},
   "outputs": [],
   "source": []
  }
 ],
 "metadata": {
  "kernelspec": {
   "display_name": "Python 3",
   "language": "python",
   "name": "python3"
  },
  "language_info": {
   "codemirror_mode": {
    "name": "ipython",
    "version": 3
   },
   "file_extension": ".py",
   "mimetype": "text/x-python",
   "name": "python",
   "nbconvert_exporter": "python",
   "pygments_lexer": "ipython3",
   "version": "3.5.5"
  }
 },
 "nbformat": 4,
 "nbformat_minor": 2
}
